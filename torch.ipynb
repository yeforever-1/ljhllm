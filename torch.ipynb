{
 "cells": [
  {
   "cell_type": "code",
   "execution_count": 1,
   "id": "bed6e83a-e17d-485a-8db3-23e7f025dff9",
   "metadata": {},
   "outputs": [
    {
     "name": "stdout",
     "output_type": "stream",
     "text": [
      "Gradient of x1: tensor([0.])\n",
      "Gradient of x2: tensor([0.0029])\n"
     ]
    }
   ],
   "source": [
    "import torch\n",
    "\n",
    "# 设置 x1 和 x2 的值\n",
    "x1 = torch.tensor([0.0], requires_grad=True)\n",
    "x2 = torch.tensor([1.0], requires_grad=True)\n",
    "\n",
    "# 构建计算图\n",
    "sigmoid = torch.nn.Sigmoid()\n",
    "x1_squared = x1 ** 2\n",
    "x1x2 = x1_squared + 2 * x2 + 1\n",
    "sigmoid_x1x2 = sigmoid(x1x2)\n",
    "y = sigmoid(3 * sigmoid_x1x2 + sigmoid_x1x2 + 1)\n",
    "\n",
    "# 计算梯度\n",
    "y.backward()\n",
    "\n",
    "# 输出梯度\n",
    "print(\"Gradient of x1:\", x1.grad)\n",
    "print(\"Gradient of x2:\", x2.grad)"
   ]
  },
  {
   "cell_type": "code",
   "execution_count": null,
   "id": "0dbb0f9c-1001-46c4-a38a-5732f4a98915",
   "metadata": {},
   "outputs": [],
   "source": []
  }
 ],
 "metadata": {
  "kernelspec": {
   "display_name": "Python 3 (ipykernel)",
   "language": "python",
   "name": "python3"
  },
  "language_info": {
   "codemirror_mode": {
    "name": "ipython",
    "version": 3
   },
   "file_extension": ".py",
   "mimetype": "text/x-python",
   "name": "python",
   "nbconvert_exporter": "python",
   "pygments_lexer": "ipython3",
   "version": "3.9.13"
  }
 },
 "nbformat": 4,
 "nbformat_minor": 5
}
